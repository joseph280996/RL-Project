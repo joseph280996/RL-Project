{
 "cells": [
  {
   "cell_type": "markdown",
   "id": "a95fafd6",
   "metadata": {},
   "source": [
    "# Importing Modules"
   ]
  },
  {
   "cell_type": "code",
   "execution_count": 1,
   "id": "90add69f",
   "metadata": {},
   "outputs": [],
   "source": [
    "import torch\n",
    "import torchinfo\n",
    "import torchvision\n",
    "\n",
    "import gymnasium as gym\n",
    "import matplotlib.pyplot as plt"
   ]
  },
  {
   "cell_type": "code",
   "execution_count": 2,
   "id": "2845c81e",
   "metadata": {},
   "outputs": [],
   "source": [
    "import models"
   ]
  },
  {
   "cell_type": "code",
   "execution_count": 3,
   "id": "ed1746e5",
   "metadata": {},
   "outputs": [
    {
     "data": {
      "text/plain": [
       "<module 'models' from 'c:\\\\Users\\\\josep\\\\Code\\\\School\\\\RL\\\\Project\\\\src\\\\models\\\\__init__.py'>"
      ]
     },
     "execution_count": 3,
     "metadata": {},
     "output_type": "execute_result"
    }
   ],
   "source": [
    "import importlib\n",
    "importlib.reload(models)"
   ]
  },
  {
   "cell_type": "markdown",
   "id": "59c57c00",
   "metadata": {},
   "source": [
    "# Configure"
   ]
  },
  {
   "cell_type": "code",
   "execution_count": 4,
   "id": "23b8f01f",
   "metadata": {},
   "outputs": [],
   "source": [
    "device = torch.device(\n",
    "    \"cuda\" if torch.cuda.is_available() else\n",
    "    \"mps\" if torch.backends.mps.is_available() else\n",
    "    \"cpu\"\n",
    ")\n"
   ]
  },
  {
   "cell_type": "code",
   "execution_count": 5,
   "id": "0fd6a47f",
   "metadata": {},
   "outputs": [
    {
     "data": {
      "text/plain": [
       "device(type='cuda')"
      ]
     },
     "execution_count": 5,
     "metadata": {},
     "output_type": "execute_result"
    }
   ],
   "source": [
    "device"
   ]
  },
  {
   "cell_type": "code",
   "execution_count": 7,
   "id": "e12eb088",
   "metadata": {},
   "outputs": [],
   "source": [
    "def save_model(agent, path: str):\n",
    "    \"\"\"Save DQN model weights\"\"\"\n",
    "    torch.save({\n",
    "        'policy_net_state_dict': agent.policy_net.state_dict(),\n",
    "        'target_net_state_dict': agent.target_net.state_dict(),\n",
    "        'optimizer_state_dict': agent.optimizer.state_dict(),\n",
    "    }, path)\n",
    "    print(f\"Model saved to {path}\")\n",
    "\n",
    "def load_model(agent, path: str):\n",
    "    \"\"\"Load DQN model weights\"\"\"\n",
    "    checkpoint = torch.load(path)\n",
    "    agent.policy_net.load_state_dict(checkpoint['policy_net_state_dict'])\n",
    "    agent.target_net.load_state_dict(checkpoint['target_net_state_dict'])\n",
    "    agent.optimizer.load_state_dict(checkpoint['optimizer_state_dict'])\n",
    "    print(f\"Model loaded from {path}\")\n",
    "    return agent"
   ]
  },
  {
   "cell_type": "markdown",
   "id": "61492bd6",
   "metadata": {},
   "source": [
    "# Hyperparameters search"
   ]
  },
  {
   "cell_type": "code",
   "execution_count": 8,
   "id": "3939d631",
   "metadata": {},
   "outputs": [
    {
     "name": "stdout",
     "output_type": "stream",
     "text": [
      "Testing 324 configurations...\n"
     ]
    },
    {
     "name": "stderr",
     "output_type": "stream",
     "text": [
      "100%|██████████| 1000/1000 [05:11<00:00,  3.21it/s, episode_id=999, total_r=161]\n",
      " 80%|███████▉  | 798/1000 [04:40<01:11,  2.84it/s, episode_id=797, total_r=259]\n",
      " 73%|███████▎  | 728/1000 [04:47<01:47,  2.53it/s, episode_id=727, total_r=181]\n",
      " 18%|█▊        | 179/1000 [00:18<01:24,  9.70it/s, episode_id=178, total_r=257]\n",
      "100%|██████████| 1000/1000 [06:46<00:00,  2.46it/s, episode_id=999, total_r=56]\n",
      "100%|██████████| 1000/1000 [05:55<00:00,  2.81it/s, episode_id=999, total_r=176]\n",
      "100%|██████████| 1000/1000 [04:03<00:00,  4.10it/s, episode_id=999, total_r=63]\n",
      "100%|██████████| 1000/1000 [04:22<00:00,  3.81it/s, episode_id=999, total_r=92]\n",
      "100%|██████████| 1000/1000 [04:47<00:00,  3.47it/s, episode_id=999, total_r=23]\n",
      "100%|██████████| 1000/1000 [06:34<00:00,  2.53it/s, episode_id=999, total_r=136]\n",
      " 25%|██▍       | 248/1000 [00:32<01:37,  7.69it/s, episode_id=247, total_r=393]\n",
      "100%|██████████| 1000/1000 [06:59<00:00,  2.39it/s, episode_id=999, total_r=157]\n",
      " 39%|███▉      | 391/1000 [02:10<03:23,  3.00it/s, episode_id=390, total_r=206]\n",
      "100%|██████████| 1000/1000 [05:35<00:00,  2.98it/s, episode_id=999, total_r=274]\n",
      " 18%|█▊        | 185/1000 [00:22<01:39,  8.16it/s, episode_id=184, total_r=333]\n",
      " 16%|█▌        | 158/1000 [00:26<02:23,  5.85it/s, episode_id=157, total_r=162]\n",
      " 15%|█▍        | 149/1000 [00:23<02:12,  6.42it/s, episode_id=148, total_r=170]\n",
      "  9%|▉         | 91/1000 [00:24<03:59,  3.79it/s, episode_id=90, total_r=77]\n",
      " 97%|█████████▋| 974/1000 [05:35<00:08,  2.90it/s, episode_id=973, total_r=259]\n",
      " 21%|██        | 206/1000 [00:18<01:11, 11.15it/s, episode_id=205, total_r=371]\n",
      " 28%|██▊       | 282/1000 [00:27<01:09, 10.32it/s, episode_id=281, total_r=469]\n",
      " 18%|█▊        | 184/1000 [00:16<01:14, 10.95it/s, episode_id=183, total_r=55]\n",
      " 20%|██        | 200/1000 [00:29<01:58,  6.78it/s, episode_id=199, total_r=261]\n",
      " 35%|███▍      | 347/1000 [01:39<03:08,  3.47it/s, episode_id=346, total_r=255]\n",
      " 55%|█████▍    | 547/1000 [01:53<01:34,  4.81it/s, episode_id=547, total_r=19]\n",
      " 15%|█▌        | 152/1000 [00:13<01:17, 10.98it/s, episode_id=151, total_r=57]\n",
      "100%|██████████| 1000/1000 [02:59<00:00,  5.58it/s, episode_id=999, total_r=14]\n",
      " 32%|███▏      | 318/1000 [02:04<04:27,  2.55it/s, episode_id=317, total_r=218]\n",
      " 66%|██████▌   | 656/1000 [04:48<02:31,  2.27it/s, episode_id=655, total_r=273]\n",
      " 52%|█████▏    | 518/1000 [03:06<02:53,  2.77it/s, episode_id=517, total_r=144]\n",
      " 11%|█▏        | 113/1000 [00:41<05:25,  2.72it/s, episode_id=112, total_r=274]\n",
      "100%|██████████| 1000/1000 [07:21<00:00,  2.27it/s, episode_id=999, total_r=97]\n",
      " 12%|█▏        | 123/1000 [00:59<07:06,  2.06it/s, episode_id=122, total_r=217]\n",
      " 49%|████▉     | 492/1000 [02:21<02:26,  3.47it/s, episode_id=491, total_r=76]\n",
      "100%|██████████| 1000/1000 [05:07<00:00,  3.25it/s, episode_id=999, total_r=104]\n",
      "100%|██████████| 1000/1000 [05:38<00:00,  2.95it/s, episode_id=999, total_r=96]\n",
      " 12%|█▏        | 122/1000 [00:12<01:31,  9.64it/s, episode_id=121, total_r=351]\n",
      " 36%|███▋      | 364/1000 [03:13<05:37,  1.88it/s, episode_id=363, total_r=289]\n",
      "100%|██████████| 1000/1000 [07:02<00:00,  2.37it/s, episode_id=999, total_r=130]\n",
      "  4%|▍         | 44/1000 [00:09<03:28,  4.59it/s, episode_id=43, total_r=416]\n",
      " 39%|███▉      | 391/1000 [02:59<04:39,  2.18it/s, episode_id=390, total_r=199]\n",
      " 23%|██▎       | 227/1000 [02:03<06:59,  1.84it/s, episode_id=226, total_r=159]\n",
      "100%|██████████| 1000/1000 [05:46<00:00,  2.88it/s, episode_id=999, total_r=82]\n",
      " 14%|█▍        | 144/1000 [00:40<04:00,  3.55it/s, episode_id=143, total_r=67]\n",
      "100%|██████████| 1000/1000 [04:57<00:00,  3.36it/s, episode_id=999, total_r=144]\n",
      " 29%|██▉       | 288/1000 [01:33<03:50,  3.08it/s, episode_id=287, total_r=403]\n",
      " 35%|███▍      | 348/1000 [01:50<03:27,  3.14it/s, episode_id=347, total_r=375]\n",
      " 79%|███████▊  | 786/1000 [03:44<01:01,  3.49it/s, episode_id=785, total_r=258]\n",
      " 10%|█         | 103/1000 [00:34<05:01,  2.97it/s, episode_id=102, total_r=454]\n",
      " 24%|██▍       | 245/1000 [01:53<05:49,  2.16it/s, episode_id=244, total_r=439]\n",
      " 22%|██▏       | 222/1000 [01:35<05:36,  2.31it/s, episode_id=221, total_r=30]\n",
      "100%|██████████| 1000/1000 [03:19<00:00,  5.00it/s, episode_id=999, total_r=16]\n",
      " 41%|████      | 410/1000 [01:22<01:58,  4.98it/s, episode_id=409, total_r=91]\n",
      " 19%|█▉        | 191/1000 [00:53<03:44,  3.60it/s, episode_id=190, total_r=235]\n",
      " 92%|█████████▏| 919/1000 [07:24<00:39,  2.07it/s, episode_id=918, total_r=231]\n",
      "100%|██████████| 1000/1000 [09:16<00:00,  1.80it/s, episode_id=999, total_r=169]\n",
      "100%|██████████| 1000/1000 [12:41<00:00,  1.31it/s, episode_id=999, total_r=251]\n",
      " 26%|██▌       | 260/1000 [02:23<06:49,  1.81it/s, episode_id=259, total_r=261]\n",
      " 68%|██████▊   | 680/1000 [04:58<02:20,  2.27it/s, episode_id=679, total_r=110]\n",
      "  4%|▍         | 42/1000 [00:13<05:12,  3.07it/s, episode_id=41, total_r=460]\n",
      "100%|██████████| 1000/1000 [05:16<00:00,  3.16it/s, episode_id=999, total_r=159]\n",
      "100%|██████████| 1000/1000 [05:32<00:00,  3.01it/s, episode_id=999, total_r=270]\n",
      "100%|██████████| 1000/1000 [05:09<00:00,  3.24it/s, episode_id=999, total_r=86]\n",
      " 92%|█████████▏| 919/1000 [07:29<00:39,  2.04it/s, episode_id=918, total_r=496]\n",
      "100%|██████████| 1000/1000 [07:09<00:00,  2.33it/s, episode_id=999, total_r=159]\n",
      " 92%|█████████▏| 921/1000 [06:52<00:35,  2.23it/s, episode_id=920, total_r=135]\n",
      " 16%|█▌        | 159/1000 [01:22<07:17,  1.92it/s, episode_id=158, total_r=193]\n",
      "  8%|▊         | 77/1000 [00:36<07:13,  2.13it/s, episode_id=76, total_r=366]\n",
      " 28%|██▊       | 275/1000 [02:44<07:14,  1.67it/s, episode_id=274, total_r=180]\n",
      " 72%|███████▏  | 719/1000 [03:45<01:28,  3.19it/s, episode_id=718, total_r=61]\n",
      " 88%|████████▊ | 880/1000 [04:30<00:36,  3.26it/s, episode_id=879, total_r=111]\n",
      " 46%|████▌     | 455/1000 [02:10<02:35,  3.50it/s, episode_id=454, total_r=92]\n",
      " 44%|████▍     | 444/1000 [01:30<01:53,  4.90it/s, episode_id=443, total_r=249]\n",
      " 34%|███▍      | 340/1000 [01:19<02:35,  4.25it/s, episode_id=339, total_r=282]\n",
      "100%|██████████| 1000/1000 [01:27<00:00, 11.46it/s, episode_id=999, total_r=8]\n",
      "  8%|▊         | 79/1000 [00:31<06:04,  2.52it/s, episode_id=78, total_r=289]\n",
      "  6%|▋         | 65/1000 [00:21<05:06,  3.06it/s, episode_id=64, total_r=231]\n",
      "  8%|▊         | 80/1000 [00:33<06:22,  2.41it/s, episode_id=79, total_r=274]\n",
      "  4%|▎         | 36/1000 [00:05<02:19,  6.92it/s, episode_id=35, total_r=127]\n",
      "100%|██████████| 1000/1000 [02:27<00:00,  6.80it/s, episode_id=999, total_r=28]\n",
      "  4%|▍         | 45/1000 [00:09<03:21,  4.73it/s, episode_id=44, total_r=275]\n",
      "100%|██████████| 1000/1000 [07:52<00:00,  2.12it/s, episode_id=999, total_r=148]\n",
      " 77%|███████▋  | 767/1000 [06:25<01:57,  1.99it/s, episode_id=766, total_r=212]\n",
      " 55%|█████▍    | 546/1000 [04:43<03:55,  1.93it/s, episode_id=545, total_r=471]\n",
      " 20%|█▉        | 196/1000 [00:22<01:30,  8.88it/s, episode_id=195, total_r=442]\n",
      " 52%|█████▏    | 519/1000 [03:11<02:57,  2.71it/s, episode_id=518, total_r=117]\n",
      " 30%|██▉       | 298/1000 [01:04<02:32,  4.59it/s, episode_id=297, total_r=284]\n",
      "100%|██████████| 1000/1000 [04:46<00:00,  3.49it/s, episode_id=999, total_r=236]\n",
      "100%|██████████| 1000/1000 [05:03<00:00,  3.30it/s, episode_id=999, total_r=90]\n",
      " 13%|█▎        | 131/1000 [00:23<02:34,  5.63it/s, episode_id=130, total_r=203]\n",
      "100%|██████████| 1000/1000 [07:45<00:00,  2.15it/s, episode_id=999, total_r=156]\n",
      "100%|██████████| 1000/1000 [07:27<00:00,  2.23it/s, episode_id=999, total_r=247]\n",
      " 63%|██████▎   | 632/1000 [04:03<02:21,  2.60it/s, episode_id=631, total_r=296]\n",
      " 68%|██████▊   | 684/1000 [04:46<02:12,  2.39it/s, episode_id=683, total_r=180]\n",
      " 51%|█████     | 506/1000 [02:52<02:48,  2.94it/s, episode_id=505, total_r=137]\n",
      " 61%|██████▏   | 613/1000 [03:16<02:04,  3.11it/s, episode_id=612, total_r=127]\n",
      " 16%|█▌        | 162/1000 [00:22<01:55,  7.28it/s, episode_id=161, total_r=147]\n",
      "100%|██████████| 1000/1000 [04:29<00:00,  3.71it/s, episode_id=999, total_r=107]\n",
      "100%|██████████| 1000/1000 [04:37<00:00,  3.60it/s, episode_id=999, total_r=24]\n",
      " 90%|█████████ | 905/1000 [05:26<00:34,  2.77it/s, episode_id=904, total_r=127]\n",
      "100%|██████████| 1000/1000 [06:28<00:00,  2.57it/s, episode_id=999, total_r=180]\n",
      " 61%|██████    | 611/1000 [02:57<01:52,  3.44it/s, episode_id=610, total_r=240]\n",
      " 68%|██████▊   | 680/1000 [05:28<02:34,  2.07it/s, episode_id=679, total_r=327]\n",
      " 26%|██▌       | 256/1000 [00:28<01:22,  9.01it/s, episode_id=255, total_r=210]\n",
      " 75%|███████▍  | 746/1000 [05:23<01:50,  2.31it/s, episode_id=745, total_r=276]\n",
      "100%|██████████| 1000/1000 [03:38<00:00,  4.58it/s, episode_id=999, total_r=61]\n",
      "100%|██████████| 1000/1000 [04:36<00:00,  3.61it/s, episode_id=999, total_r=28]\n",
      "100%|██████████| 1000/1000 [03:13<00:00,  5.17it/s, episode_id=999, total_r=94]\n",
      "100%|██████████| 1000/1000 [08:56<00:00,  1.86it/s, episode_id=999, total_r=153]\n",
      " 67%|██████▋   | 670/1000 [06:41<03:17,  1.67it/s, episode_id=669, total_r=233]\n",
      " 46%|████▌     | 459/1000 [03:32<04:10,  2.16it/s, episode_id=458, total_r=269]\n",
      "  6%|▋         | 65/1000 [00:12<03:05,  5.03it/s, episode_id=64, total_r=242]\n",
      "  9%|▉         | 88/1000 [00:25<04:24,  3.45it/s, episode_id=87, total_r=416]\n",
      "100%|██████████| 1000/1000 [08:45<00:00,  1.90it/s, episode_id=999, total_r=142]\n",
      " 39%|███▉      | 390/1000 [02:21<03:41,  2.75it/s, episode_id=389, total_r=127]\n",
      " 31%|███       | 306/1000 [01:38<03:42,  3.12it/s, episode_id=305, total_r=45]\n",
      "100%|██████████| 1000/1000 [06:54<00:00,  2.41it/s, episode_id=999, total_r=109]\n",
      "100%|██████████| 1000/1000 [06:32<00:00,  2.55it/s, episode_id=999, total_r=135]\n",
      "100%|██████████| 1000/1000 [07:51<00:00,  2.12it/s, episode_id=999, total_r=262]\n",
      " 86%|████████▌ | 860/1000 [05:58<00:58,  2.40it/s, episode_id=859, total_r=215]\n",
      "  6%|▋         | 64/1000 [00:18<04:27,  3.50it/s, episode_id=63, total_r=273]\n",
      " 14%|█▍        | 140/1000 [01:06<06:49,  2.10it/s, episode_id=139, total_r=373]\n",
      " 67%|██████▋   | 674/1000 [07:25<03:35,  1.51it/s, episode_id=673, total_r=153]\n",
      " 22%|██▏       | 220/1000 [01:18<04:39,  2.80it/s, episode_id=219, total_r=282]\n",
      " 22%|██▏       | 221/1000 [01:07<03:56,  3.29it/s, episode_id=220, total_r=224]\n",
      " 65%|██████▍   | 646/1000 [03:56<02:09,  2.73it/s, episode_id=645, total_r=175]\n",
      " 42%|████▏     | 423/1000 [01:55<02:37,  3.67it/s, episode_id=422, total_r=101]\n",
      " 37%|███▋      | 367/1000 [03:01<05:12,  2.02it/s, episode_id=366, total_r=322]\n",
      " 39%|███▉      | 127/324 [7:24:09<11:28:58, 209.84s/it]\n"
     ]
    },
    {
     "ename": "KeyboardInterrupt",
     "evalue": "",
     "output_type": "error",
     "traceback": [
      "\u001b[1;31m---------------------------------------------------------------------------\u001b[0m",
      "\u001b[1;31mKeyboardInterrupt\u001b[0m                         Traceback (most recent call last)",
      "Cell \u001b[1;32mIn[8], line 2\u001b[0m\n\u001b[0;32m      1\u001b[0m search \u001b[38;5;241m=\u001b[39m models\u001b[38;5;241m.\u001b[39mGridHyperparameterSearch()\n\u001b[1;32m----> 2\u001b[0m best_config, results_df \u001b[38;5;241m=\u001b[39m \u001b[43msearch\u001b[49m\u001b[38;5;241;43m.\u001b[39;49m\u001b[43mrun_search\u001b[49m\u001b[43m(\u001b[49m\u001b[43m)\u001b[49m\n",
      "File \u001b[1;32mc:\\Users\\josep\\Code\\School\\RL\\Project\\src\\models\\hyperparameter_search.py:76\u001b[0m, in \u001b[0;36mGridHyperparameterSearch.run_search\u001b[1;34m(self)\u001b[0m\n\u001b[0;32m     74\u001b[0m \u001b[38;5;28mprint\u001b[39m(\u001b[38;5;124mf\u001b[39m\u001b[38;5;124m\"\u001b[39m\u001b[38;5;124mTesting \u001b[39m\u001b[38;5;132;01m{\u001b[39;00m\u001b[38;5;28mlen\u001b[39m(configurations)\u001b[38;5;132;01m}\u001b[39;00m\u001b[38;5;124m configurations...\u001b[39m\u001b[38;5;124m\"\u001b[39m)\n\u001b[0;32m     75\u001b[0m \u001b[38;5;28;01mfor\u001b[39;00m config \u001b[38;5;129;01min\u001b[39;00m tqdm(configurations):\n\u001b[1;32m---> 76\u001b[0m     \u001b[38;5;28;43mself\u001b[39;49m\u001b[38;5;241;43m.\u001b[39;49m\u001b[43mevaluate_config\u001b[49m\u001b[43m(\u001b[49m\u001b[43mconfig\u001b[49m\u001b[43m)\u001b[49m\n\u001b[0;32m     78\u001b[0m \u001b[38;5;66;03m# Convert results to DataFrame and sort by score (reward/episodes)\u001b[39;00m\n\u001b[0;32m     79\u001b[0m results_df \u001b[38;5;241m=\u001b[39m pd\u001b[38;5;241m.\u001b[39mDataFrame(\u001b[38;5;28mself\u001b[39m\u001b[38;5;241m.\u001b[39mresults)\n",
      "File \u001b[1;32mc:\\Users\\josep\\Code\\School\\RL\\Project\\src\\models\\hyperparameter_search.py:37\u001b[0m, in \u001b[0;36mGridHyperparameterSearch.evaluate_config\u001b[1;34m(self, config)\u001b[0m\n\u001b[0;32m     20\u001b[0m action_dim \u001b[38;5;241m=\u001b[39m env\u001b[38;5;241m.\u001b[39maction_space\u001b[38;5;241m.\u001b[39mn\n\u001b[0;32m     22\u001b[0m agent \u001b[38;5;241m=\u001b[39m CartPoleAgent(\n\u001b[0;32m     23\u001b[0m     env\u001b[38;5;241m=\u001b[39menv,\n\u001b[0;32m     24\u001b[0m     state_dim\u001b[38;5;241m=\u001b[39mstate_dim,\n\u001b[1;32m   (...)\u001b[0m\n\u001b[0;32m     34\u001b[0m     memory_size\u001b[38;5;241m=\u001b[39mconfig[\u001b[38;5;124m\"\u001b[39m\u001b[38;5;124mmemory_size\u001b[39m\u001b[38;5;124m\"\u001b[39m]\n\u001b[0;32m     35\u001b[0m )\n\u001b[1;32m---> 37\u001b[0m tr_info \u001b[38;5;241m=\u001b[39m \u001b[43mtrain\u001b[49m\u001b[43m(\u001b[49m\n\u001b[0;32m     38\u001b[0m \u001b[43m    \u001b[49m\u001b[43menv\u001b[49m\u001b[38;5;241;43m=\u001b[39;49m\u001b[43menv\u001b[49m\u001b[43m,\u001b[49m\n\u001b[0;32m     39\u001b[0m \u001b[43m    \u001b[49m\u001b[43magent\u001b[49m\u001b[38;5;241;43m=\u001b[39;49m\u001b[43magent\u001b[49m\u001b[43m,\u001b[49m\n\u001b[0;32m     40\u001b[0m \u001b[43m    \u001b[49m\u001b[43mdevice\u001b[49m\u001b[38;5;241;43m=\u001b[39;49m\u001b[38;5;28;43mself\u001b[39;49m\u001b[38;5;241;43m.\u001b[39;49m\u001b[43mdevice\u001b[49m\u001b[43m,\u001b[49m\n\u001b[0;32m     41\u001b[0m \u001b[43m    \u001b[49m\u001b[43mnum_episodes\u001b[49m\u001b[38;5;241;43m=\u001b[39;49m\u001b[43mconfig\u001b[49m\u001b[43m[\u001b[49m\u001b[38;5;124;43m\"\u001b[39;49m\u001b[38;5;124;43mn_epochs\u001b[39;49m\u001b[38;5;124;43m\"\u001b[39;49m\u001b[43m]\u001b[49m\u001b[43m,\u001b[49m\n\u001b[0;32m     42\u001b[0m \u001b[43m\u001b[49m\u001b[43m)\u001b[49m\n\u001b[0;32m     44\u001b[0m \u001b[38;5;66;03m# Calculate metrics for speed and performance\u001b[39;00m\n\u001b[0;32m     45\u001b[0m eps_to_converge \u001b[38;5;241m=\u001b[39m \u001b[38;5;28mlen\u001b[39m(tr_info[\u001b[38;5;124m'\u001b[39m\u001b[38;5;124mtotal_r\u001b[39m\u001b[38;5;124m'\u001b[39m])\n",
      "File \u001b[1;32mc:\\Users\\josep\\Code\\School\\RL\\Project\\src\\models\\train.py:52\u001b[0m, in \u001b[0;36mtrain\u001b[1;34m(env, agent, device, num_episodes, patience, n_eps_mean_for_early_stopping, target_r)\u001b[0m\n\u001b[0;32m     50\u001b[0m     agent\u001b[38;5;241m.\u001b[39mmemorize_observation(state, action, next_state, reward)\n\u001b[0;32m     51\u001b[0m     state \u001b[38;5;241m=\u001b[39m next_state\n\u001b[1;32m---> 52\u001b[0m     \u001b[43magent\u001b[49m\u001b[38;5;241;43m.\u001b[39;49m\u001b[43moptimize\u001b[49m\u001b[43m(\u001b[49m\u001b[43m)\u001b[49m\n\u001b[0;32m     53\u001b[0m     agent\u001b[38;5;241m.\u001b[39mupdate()\n\u001b[0;32m     55\u001b[0m \u001b[38;5;28;01mif\u001b[39;00m total_reward \u001b[38;5;241m==\u001b[39m target_r:\n",
      "File \u001b[1;32mc:\\Users\\josep\\Code\\School\\RL\\Project\\src\\models\\agents.py:102\u001b[0m, in \u001b[0;36mCartPoleAgent.optimize\u001b[1;34m(self)\u001b[0m\n\u001b[0;32m     96\u001b[0m \u001b[38;5;66;03m# Compute V(s_{t+1}) for all next states.\u001b[39;00m\n\u001b[0;32m     97\u001b[0m \u001b[38;5;66;03m# Expected values of actions for non_final_next_states are computed based\u001b[39;00m\n\u001b[0;32m     98\u001b[0m \u001b[38;5;66;03m# on the \"older\" target_net; selecting their best reward with max(1).values\u001b[39;00m\n\u001b[0;32m     99\u001b[0m \u001b[38;5;66;03m# This is merged based on the mask, such that we'll have either the expected\u001b[39;00m\n\u001b[0;32m    100\u001b[0m \u001b[38;5;66;03m# state value or 0 in case the state was final.\u001b[39;00m\n\u001b[0;32m    101\u001b[0m next_state_values \u001b[38;5;241m=\u001b[39m torch\u001b[38;5;241m.\u001b[39mzeros(\u001b[38;5;28mself\u001b[39m\u001b[38;5;241m.\u001b[39mbatch_size, device\u001b[38;5;241m=\u001b[39m\u001b[38;5;28mself\u001b[39m\u001b[38;5;241m.\u001b[39mdevice)\n\u001b[1;32m--> 102\u001b[0m \u001b[38;5;28;01mwith\u001b[39;00m \u001b[43mtorch\u001b[49m\u001b[38;5;241;43m.\u001b[39;49m\u001b[43mno_grad\u001b[49m\u001b[43m(\u001b[49m\u001b[43m)\u001b[49m:\n\u001b[0;32m    103\u001b[0m     next_state_values[non_final_mask] \u001b[38;5;241m=\u001b[39m \u001b[38;5;28mself\u001b[39m\u001b[38;5;241m.\u001b[39mtarget_net(non_final_next_states)\u001b[38;5;241m.\u001b[39mmax(\u001b[38;5;241m1\u001b[39m)\u001b[38;5;241m.\u001b[39mvalues\n\u001b[0;32m    104\u001b[0m \u001b[38;5;66;03m# Compute the expected Q values\u001b[39;00m\n",
      "File \u001b[1;32mc:\\Users\\josep\\scoop\\apps\\miniconda3\\current\\envs\\cs138_env\\Lib\\site-packages\\torch\\autograd\\grad_mode.py:84\u001b[0m, in \u001b[0;36mno_grad.__exit__\u001b[1;34m(self, exc_type, exc_value, traceback)\u001b[0m\n\u001b[0;32m     81\u001b[0m     \u001b[38;5;28mself\u001b[39m\u001b[38;5;241m.\u001b[39mprev \u001b[38;5;241m=\u001b[39m torch\u001b[38;5;241m.\u001b[39mis_grad_enabled()\n\u001b[0;32m     82\u001b[0m     torch\u001b[38;5;241m.\u001b[39mset_grad_enabled(\u001b[38;5;28;01mFalse\u001b[39;00m)\n\u001b[1;32m---> 84\u001b[0m \u001b[38;5;28;01mdef\u001b[39;00m \u001b[38;5;21m__exit__\u001b[39m(\u001b[38;5;28mself\u001b[39m, exc_type: Any, exc_value: Any, traceback: Any) \u001b[38;5;241m-\u001b[39m\u001b[38;5;241m>\u001b[39m \u001b[38;5;28;01mNone\u001b[39;00m:\n\u001b[0;32m     85\u001b[0m     torch\u001b[38;5;241m.\u001b[39mset_grad_enabled(\u001b[38;5;28mself\u001b[39m\u001b[38;5;241m.\u001b[39mprev)\n",
      "\u001b[1;31mKeyboardInterrupt\u001b[0m: "
     ]
    }
   ],
   "source": [
    "search = models.GridHyperparameterSearch()\n",
    "best_config, results_df = search.run_search()"
   ]
  },
  {
   "cell_type": "code",
   "execution_count": 55,
   "id": "5e0db8a8",
   "metadata": {},
   "outputs": [],
   "source": [
    "import pandas as pd\n",
    "results_df = pd.DataFrame(search.results)\n",
    "results_df = results_df.sort_values('eps_to_converge', ascending=True)"
   ]
  },
  {
   "cell_type": "code",
   "execution_count": 56,
   "id": "ae053aca",
   "metadata": {},
   "outputs": [
    {
     "name": "stdout",
     "output_type": "stream",
     "text": [
      "{'n_epochs': 1000.0, 'batch_size': 128.0, 'epsilon_start': 0.9, 'epsilon_min': 0.05, 'epsilon_decay': 1000.0, 'tau': 0.01, 'gamma': 0.99, 'learning_rate': 0.01, 'memory_size': 10000.0}\n"
     ]
    }
   ],
   "source": [
    "best = results_df.iloc[0].drop([\"eps_to_converge\"]).to_dict()\n",
    "best[\"memory_size\"]\n",
    "print(best)"
   ]
  },
  {
   "cell_type": "code",
   "execution_count": null,
   "id": "85e61d83",
   "metadata": {},
   "outputs": [],
   "source": [
    "best = {'n_epochs': 1000.0, 'batch_size': 128.0, 'epsilon_start': 0.9, 'epsilon_min': 0.05, 'epsilon_decay': 1000.0, 'tau': 0.01, 'gamma': 0.99, 'learning_rate': 0.01, 'memory_size': 10000.0}"
   ]
  },
  {
   "cell_type": "code",
   "execution_count": 57,
   "id": "72fc64c0",
   "metadata": {},
   "outputs": [],
   "source": [
    "N_EPOCHS = int(best[\"n_epochs\"])\n",
    "BATCH_SIZE = int(best[\"batch_size\"])\n",
    "EPSILON_START = best[\"epsilon_start\"]\n",
    "EPSILON_MIN = best[\"epsilon_min\"]\n",
    "EPSILON_DECAY = int(best[\"epsilon_decay\"])\n",
    "TAU = best[\"tau\"]\n",
    "GAMMA = best[\"gamma\"]\n",
    "LR = best[\"learning_rate\"]\n",
    "MEM_SIZE = int(best[\"memory_size\"])\n",
    "MODEL_PATH = './best_model.pth'"
   ]
  },
  {
   "cell_type": "markdown",
   "id": "97ed2e9b",
   "metadata": {},
   "source": [
    "# Create Environment"
   ]
  },
  {
   "cell_type": "code",
   "execution_count": 58,
   "id": "d6112a54",
   "metadata": {},
   "outputs": [
    {
     "data": {
      "text/plain": [
       "(array([ 0.02715907, -0.04523319, -0.02692717,  0.01651349], dtype=float32),\n",
       " {})"
      ]
     },
     "execution_count": 58,
     "metadata": {},
     "output_type": "execute_result"
    }
   ],
   "source": [
    "env = gym.make(\"CartPole-v1\")\n",
    "env.reset()"
   ]
  },
  {
   "cell_type": "markdown",
   "id": "1d948724",
   "metadata": {},
   "source": [
    "# Create Agent"
   ]
  },
  {
   "cell_type": "code",
   "execution_count": 59,
   "id": "92a95f5b",
   "metadata": {},
   "outputs": [],
   "source": [
    "state_dim = env.observation_space.shape[0]\n",
    "action_dim = env.action_space.n\n",
    "\n",
    "agent = models.CartPoleAgent(env, state_dim, action_dim, device, \n",
    "                            memory_size=int(MEM_SIZE), batch_size=int(BATCH_SIZE), \n",
    "                            epsilon_start=EPSILON_START, epsilon_min=EPSILON_MIN, epsilon_decay=EPSILON_DECAY, \n",
    "                            tau=TAU, gamma=GAMMA, learning_rate=LR)"
   ]
  },
  {
   "cell_type": "markdown",
   "id": "e4436b6f",
   "metadata": {},
   "source": [
    "# Train"
   ]
  },
  {
   "cell_type": "code",
   "execution_count": 60,
   "id": "4b9306c5",
   "metadata": {},
   "outputs": [
    {
     "name": "stderr",
     "output_type": "stream",
     "text": [
      "  1%|          | 6/1000 [00:00<00:22, 44.16it/s, episode_id=5, total_r=16]\n"
     ]
    },
    {
     "ename": "RuntimeError",
     "evalue": "element 0 of tensors does not require grad and does not have a grad_fn",
     "output_type": "error",
     "traceback": [
      "\u001b[1;31m---------------------------------------------------------------------------\u001b[0m",
      "\u001b[1;31mRuntimeError\u001b[0m                              Traceback (most recent call last)",
      "Cell \u001b[1;32mIn[60], line 3\u001b[0m\n\u001b[0;32m      1\u001b[0m \u001b[38;5;66;03m# Train the agent\u001b[39;00m\n\u001b[0;32m      2\u001b[0m episodes \u001b[38;5;241m=\u001b[39m []\n\u001b[1;32m----> 3\u001b[0m tr_info \u001b[38;5;241m=\u001b[39m \u001b[43mmodels\u001b[49m\u001b[38;5;241;43m.\u001b[39;49m\u001b[43mtrain\u001b[49m\u001b[43m(\u001b[49m\u001b[43menv\u001b[49m\u001b[43m,\u001b[49m\u001b[43m \u001b[49m\u001b[43magent\u001b[49m\u001b[43m,\u001b[49m\u001b[43m \u001b[49m\u001b[43mdevice\u001b[49m\u001b[43m,\u001b[49m\u001b[43m \u001b[49m\u001b[38;5;28;43mint\u001b[39;49m\u001b[43m(\u001b[49m\u001b[43mN_EPOCHS\u001b[49m\u001b[43m)\u001b[49m\u001b[43m)\u001b[49m\n",
      "File \u001b[1;32mc:\\Users\\josep\\Code\\School\\RL\\Project\\src\\models\\train.py:52\u001b[0m, in \u001b[0;36mtrain\u001b[1;34m(env, agent, device, num_episodes, patience, n_eps_mean_for_early_stopping, target_r)\u001b[0m\n\u001b[0;32m     50\u001b[0m     agent\u001b[38;5;241m.\u001b[39mmemorize_observation(state, action, next_state, reward)\n\u001b[0;32m     51\u001b[0m     state \u001b[38;5;241m=\u001b[39m next_state\n\u001b[1;32m---> 52\u001b[0m     \u001b[43magent\u001b[49m\u001b[38;5;241;43m.\u001b[39;49m\u001b[43moptimize\u001b[49m\u001b[43m(\u001b[49m\u001b[43m)\u001b[49m\n\u001b[0;32m     53\u001b[0m     agent\u001b[38;5;241m.\u001b[39mupdate()\n\u001b[0;32m     55\u001b[0m \u001b[38;5;28;01mif\u001b[39;00m total_reward \u001b[38;5;241m==\u001b[39m target_r:\n",
      "File \u001b[1;32mc:\\Users\\josep\\Code\\School\\RL\\Project\\src\\models\\agents.py:113\u001b[0m, in \u001b[0;36mCartPoleAgent.optimize\u001b[1;34m(self)\u001b[0m\n\u001b[0;32m    111\u001b[0m \u001b[38;5;66;03m# Optimize the model\u001b[39;00m\n\u001b[0;32m    112\u001b[0m \u001b[38;5;28mself\u001b[39m\u001b[38;5;241m.\u001b[39moptimizer\u001b[38;5;241m.\u001b[39mzero_grad()\n\u001b[1;32m--> 113\u001b[0m \u001b[43mloss\u001b[49m\u001b[38;5;241;43m.\u001b[39;49m\u001b[43mbackward\u001b[49m\u001b[43m(\u001b[49m\u001b[43m)\u001b[49m\n\u001b[0;32m    114\u001b[0m \u001b[38;5;66;03m# In-place gradient clipping\u001b[39;00m\n\u001b[0;32m    115\u001b[0m torch\u001b[38;5;241m.\u001b[39mnn\u001b[38;5;241m.\u001b[39mutils\u001b[38;5;241m.\u001b[39mclip_grad_value_(\u001b[38;5;28mself\u001b[39m\u001b[38;5;241m.\u001b[39mpolicy_net\u001b[38;5;241m.\u001b[39mparameters(), \u001b[38;5;241m100\u001b[39m)\n",
      "File \u001b[1;32mc:\\Users\\josep\\scoop\\apps\\miniconda3\\current\\envs\\cs138_env\\Lib\\site-packages\\torch\\_tensor.py:581\u001b[0m, in \u001b[0;36mTensor.backward\u001b[1;34m(self, gradient, retain_graph, create_graph, inputs)\u001b[0m\n\u001b[0;32m    571\u001b[0m \u001b[38;5;28;01mif\u001b[39;00m has_torch_function_unary(\u001b[38;5;28mself\u001b[39m):\n\u001b[0;32m    572\u001b[0m     \u001b[38;5;28;01mreturn\u001b[39;00m handle_torch_function(\n\u001b[0;32m    573\u001b[0m         Tensor\u001b[38;5;241m.\u001b[39mbackward,\n\u001b[0;32m    574\u001b[0m         (\u001b[38;5;28mself\u001b[39m,),\n\u001b[1;32m   (...)\u001b[0m\n\u001b[0;32m    579\u001b[0m         inputs\u001b[38;5;241m=\u001b[39minputs,\n\u001b[0;32m    580\u001b[0m     )\n\u001b[1;32m--> 581\u001b[0m \u001b[43mtorch\u001b[49m\u001b[38;5;241;43m.\u001b[39;49m\u001b[43mautograd\u001b[49m\u001b[38;5;241;43m.\u001b[39;49m\u001b[43mbackward\u001b[49m\u001b[43m(\u001b[49m\n\u001b[0;32m    582\u001b[0m \u001b[43m    \u001b[49m\u001b[38;5;28;43mself\u001b[39;49m\u001b[43m,\u001b[49m\u001b[43m \u001b[49m\u001b[43mgradient\u001b[49m\u001b[43m,\u001b[49m\u001b[43m \u001b[49m\u001b[43mretain_graph\u001b[49m\u001b[43m,\u001b[49m\u001b[43m \u001b[49m\u001b[43mcreate_graph\u001b[49m\u001b[43m,\u001b[49m\u001b[43m \u001b[49m\u001b[43minputs\u001b[49m\u001b[38;5;241;43m=\u001b[39;49m\u001b[43minputs\u001b[49m\n\u001b[0;32m    583\u001b[0m \u001b[43m\u001b[49m\u001b[43m)\u001b[49m\n",
      "File \u001b[1;32mc:\\Users\\josep\\scoop\\apps\\miniconda3\\current\\envs\\cs138_env\\Lib\\site-packages\\torch\\autograd\\__init__.py:347\u001b[0m, in \u001b[0;36mbackward\u001b[1;34m(tensors, grad_tensors, retain_graph, create_graph, grad_variables, inputs)\u001b[0m\n\u001b[0;32m    342\u001b[0m     retain_graph \u001b[38;5;241m=\u001b[39m create_graph\n\u001b[0;32m    344\u001b[0m \u001b[38;5;66;03m# The reason we repeat the same comment below is that\u001b[39;00m\n\u001b[0;32m    345\u001b[0m \u001b[38;5;66;03m# some Python versions print out the first line of a multi-line function\u001b[39;00m\n\u001b[0;32m    346\u001b[0m \u001b[38;5;66;03m# calls in the traceback and some print out the last line\u001b[39;00m\n\u001b[1;32m--> 347\u001b[0m \u001b[43m_engine_run_backward\u001b[49m\u001b[43m(\u001b[49m\n\u001b[0;32m    348\u001b[0m \u001b[43m    \u001b[49m\u001b[43mtensors\u001b[49m\u001b[43m,\u001b[49m\n\u001b[0;32m    349\u001b[0m \u001b[43m    \u001b[49m\u001b[43mgrad_tensors_\u001b[49m\u001b[43m,\u001b[49m\n\u001b[0;32m    350\u001b[0m \u001b[43m    \u001b[49m\u001b[43mretain_graph\u001b[49m\u001b[43m,\u001b[49m\n\u001b[0;32m    351\u001b[0m \u001b[43m    \u001b[49m\u001b[43mcreate_graph\u001b[49m\u001b[43m,\u001b[49m\n\u001b[0;32m    352\u001b[0m \u001b[43m    \u001b[49m\u001b[43minputs\u001b[49m\u001b[43m,\u001b[49m\n\u001b[0;32m    353\u001b[0m \u001b[43m    \u001b[49m\u001b[43mallow_unreachable\u001b[49m\u001b[38;5;241;43m=\u001b[39;49m\u001b[38;5;28;43;01mTrue\u001b[39;49;00m\u001b[43m,\u001b[49m\n\u001b[0;32m    354\u001b[0m \u001b[43m    \u001b[49m\u001b[43maccumulate_grad\u001b[49m\u001b[38;5;241;43m=\u001b[39;49m\u001b[38;5;28;43;01mTrue\u001b[39;49;00m\u001b[43m,\u001b[49m\n\u001b[0;32m    355\u001b[0m \u001b[43m\u001b[49m\u001b[43m)\u001b[49m\n",
      "File \u001b[1;32mc:\\Users\\josep\\scoop\\apps\\miniconda3\\current\\envs\\cs138_env\\Lib\\site-packages\\torch\\autograd\\graph.py:825\u001b[0m, in \u001b[0;36m_engine_run_backward\u001b[1;34m(t_outputs, *args, **kwargs)\u001b[0m\n\u001b[0;32m    823\u001b[0m     unregister_hooks \u001b[38;5;241m=\u001b[39m _register_logging_hooks_on_whole_graph(t_outputs)\n\u001b[0;32m    824\u001b[0m \u001b[38;5;28;01mtry\u001b[39;00m:\n\u001b[1;32m--> 825\u001b[0m     \u001b[38;5;28;01mreturn\u001b[39;00m \u001b[43mVariable\u001b[49m\u001b[38;5;241;43m.\u001b[39;49m\u001b[43m_execution_engine\u001b[49m\u001b[38;5;241;43m.\u001b[39;49m\u001b[43mrun_backward\u001b[49m\u001b[43m(\u001b[49m\u001b[43m  \u001b[49m\u001b[38;5;66;43;03m# Calls into the C++ engine to run the backward pass\u001b[39;49;00m\n\u001b[0;32m    826\u001b[0m \u001b[43m        \u001b[49m\u001b[43mt_outputs\u001b[49m\u001b[43m,\u001b[49m\u001b[43m \u001b[49m\u001b[38;5;241;43m*\u001b[39;49m\u001b[43margs\u001b[49m\u001b[43m,\u001b[49m\u001b[43m \u001b[49m\u001b[38;5;241;43m*\u001b[39;49m\u001b[38;5;241;43m*\u001b[39;49m\u001b[43mkwargs\u001b[49m\n\u001b[0;32m    827\u001b[0m \u001b[43m    \u001b[49m\u001b[43m)\u001b[49m  \u001b[38;5;66;03m# Calls into the C++ engine to run the backward pass\u001b[39;00m\n\u001b[0;32m    828\u001b[0m \u001b[38;5;28;01mfinally\u001b[39;00m:\n\u001b[0;32m    829\u001b[0m     \u001b[38;5;28;01mif\u001b[39;00m attach_logging_hooks:\n",
      "\u001b[1;31mRuntimeError\u001b[0m: element 0 of tensors does not require grad and does not have a grad_fn"
     ]
    }
   ],
   "source": [
    "# Train the agent\n",
    "episodes = []\n",
    "tr_info = models.train(env, agent, device, int(N_EPOCHS))\n"
   ]
  },
  {
   "cell_type": "markdown",
   "id": "06da8311",
   "metadata": {},
   "source": [
    "# Plot result"
   ]
  },
  {
   "cell_type": "code",
   "execution_count": 11,
   "id": "973883f7",
   "metadata": {},
   "outputs": [
    {
     "data": {
      "image/png": "[encoded data removed]",
      "text/plain": [
       "<Figure size 640x480 with 1 Axes>"
      ]
     },
     "metadata": {},
     "output_type": "display_data"
    }
   ],
   "source": [
    "plt.figure(1)\n",
    "plt.title('Result')\n",
    "plt.xlabel('Episode')\n",
    "plt.ylabel('Duration')\n",
    "plt.plot(tr_info['total_r'], color='b')\n",
    "plt.show()"
   ]
  }
 ],
 "metadata": {
  "kernelspec": {
   "display_name": "cs138_env",
   "language": "python",
   "name": "python3"
  },
  "language_info": {
   "codemirror_mode": {
    "name": "ipython",
    "version": 3
   },
   "file_extension": ".py",
   "mimetype": "text/x-python",
   "name": "python",
   "nbconvert_exporter": "python",
   "pygments_lexer": "ipython3",
   "version": "3.12.8"
  }
 },
 "nbformat": 4,
 "nbformat_minor": 5
}
